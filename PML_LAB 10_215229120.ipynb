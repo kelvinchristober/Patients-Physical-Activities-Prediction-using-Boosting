{
 "cells": [
  {
   "cell_type": "markdown",
   "metadata": {},
   "source": [
    "NAME : KELVIN CHRISTOBER\n",
    "\n",
    "ROLL NO : 215229120"
   ]
  },
  {
   "cell_type": "markdown",
   "metadata": {},
   "source": [
    "## PML Lab10. Patients Physical Activities Prediction using Boosting"
   ]
  },
  {
   "cell_type": "markdown",
   "metadata": {},
   "source": [
    "#### Import necessary library"
   ]
  },
  {
   "cell_type": "code",
   "execution_count": 1,
   "metadata": {},
   "outputs": [],
   "source": [
    "import pandas as pd"
   ]
  },
  {
   "cell_type": "markdown",
   "metadata": {},
   "source": [
    "#### Step2 [Build a small dataset]"
   ]
  },
  {
   "cell_type": "code",
   "execution_count": 2,
   "metadata": {},
   "outputs": [],
   "source": [
    "data=pd.read_csv('Human_Activity_Data.csv')"
   ]
  },
  {
   "cell_type": "code",
   "execution_count": 3,
   "metadata": {},
   "outputs": [],
   "source": [
    "df=data.iloc[:1500,:]"
   ]
  },
  {
   "cell_type": "code",
   "execution_count": 4,
   "metadata": {},
   "outputs": [],
   "source": [
    "lay = df.loc[df['Activity'] == \"LAYING\"][:500]\n",
    "sit = df.loc[df['Activity'] == \"SITTING\"][:500]\n",
    "walk = df.loc[df['Activity'] == \"WALKING\"][:500]\n",
    "\n",
    "frames = [lay, sit, walk]\n",
    "\n",
    "df_new = pd.concat(frames)"
   ]
  },
  {
   "cell_type": "code",
   "execution_count": 5,
   "metadata": {},
   "outputs": [
    {
     "data": {
      "text/plain": [
       "(1500, 562)"
      ]
     },
     "execution_count": 5,
     "metadata": {},
     "output_type": "execute_result"
    }
   ],
   "source": [
    "df.shape"
   ]
  },
  {
   "cell_type": "code",
   "execution_count": 6,
   "metadata": {},
   "outputs": [
    {
     "data": {
      "text/html": [
       "<div>\n",
       "<style scoped>\n",
       "    .dataframe tbody tr th:only-of-type {\n",
       "        vertical-align: middle;\n",
       "    }\n",
       "\n",
       "    .dataframe tbody tr th {\n",
       "        vertical-align: top;\n",
       "    }\n",
       "\n",
       "    .dataframe thead th {\n",
       "        text-align: right;\n",
       "    }\n",
       "</style>\n",
       "<table border=\"1\" class=\"dataframe\">\n",
       "  <thead>\n",
       "    <tr style=\"text-align: right;\">\n",
       "      <th></th>\n",
       "      <th>tBodyAcc-mean()-X</th>\n",
       "      <th>tBodyAcc-mean()-Y</th>\n",
       "      <th>tBodyAcc-mean()-Z</th>\n",
       "      <th>tBodyAcc-std()-X</th>\n",
       "      <th>tBodyAcc-std()-Y</th>\n",
       "      <th>tBodyAcc-std()-Z</th>\n",
       "      <th>tBodyAcc-mad()-X</th>\n",
       "      <th>tBodyAcc-mad()-Y</th>\n",
       "      <th>tBodyAcc-mad()-Z</th>\n",
       "      <th>tBodyAcc-max()-X</th>\n",
       "      <th>...</th>\n",
       "      <th>fBodyBodyGyroJerkMag-skewness()</th>\n",
       "      <th>fBodyBodyGyroJerkMag-kurtosis()</th>\n",
       "      <th>angle(tBodyAccMean,gravity)</th>\n",
       "      <th>angle(tBodyAccJerkMean),gravityMean)</th>\n",
       "      <th>angle(tBodyGyroMean,gravityMean)</th>\n",
       "      <th>angle(tBodyGyroJerkMean,gravityMean)</th>\n",
       "      <th>angle(X,gravityMean)</th>\n",
       "      <th>angle(Y,gravityMean)</th>\n",
       "      <th>angle(Z,gravityMean)</th>\n",
       "      <th>Activity</th>\n",
       "    </tr>\n",
       "  </thead>\n",
       "  <tbody>\n",
       "    <tr>\n",
       "      <th>0</th>\n",
       "      <td>0.288585</td>\n",
       "      <td>-0.020294</td>\n",
       "      <td>-0.132905</td>\n",
       "      <td>-0.995279</td>\n",
       "      <td>-0.983111</td>\n",
       "      <td>-0.913526</td>\n",
       "      <td>-0.995112</td>\n",
       "      <td>-0.983185</td>\n",
       "      <td>-0.923527</td>\n",
       "      <td>-0.934724</td>\n",
       "      <td>...</td>\n",
       "      <td>-0.298676</td>\n",
       "      <td>-0.710304</td>\n",
       "      <td>-0.112754</td>\n",
       "      <td>0.030400</td>\n",
       "      <td>-0.464761</td>\n",
       "      <td>-0.018446</td>\n",
       "      <td>-0.841247</td>\n",
       "      <td>0.179941</td>\n",
       "      <td>-0.058627</td>\n",
       "      <td>STANDING</td>\n",
       "    </tr>\n",
       "    <tr>\n",
       "      <th>1</th>\n",
       "      <td>0.278419</td>\n",
       "      <td>-0.016411</td>\n",
       "      <td>-0.123520</td>\n",
       "      <td>-0.998245</td>\n",
       "      <td>-0.975300</td>\n",
       "      <td>-0.960322</td>\n",
       "      <td>-0.998807</td>\n",
       "      <td>-0.974914</td>\n",
       "      <td>-0.957686</td>\n",
       "      <td>-0.943068</td>\n",
       "      <td>...</td>\n",
       "      <td>-0.595051</td>\n",
       "      <td>-0.861499</td>\n",
       "      <td>0.053477</td>\n",
       "      <td>-0.007435</td>\n",
       "      <td>-0.732626</td>\n",
       "      <td>0.703511</td>\n",
       "      <td>-0.844788</td>\n",
       "      <td>0.180289</td>\n",
       "      <td>-0.054317</td>\n",
       "      <td>STANDING</td>\n",
       "    </tr>\n",
       "    <tr>\n",
       "      <th>2</th>\n",
       "      <td>0.279653</td>\n",
       "      <td>-0.019467</td>\n",
       "      <td>-0.113462</td>\n",
       "      <td>-0.995380</td>\n",
       "      <td>-0.967187</td>\n",
       "      <td>-0.978944</td>\n",
       "      <td>-0.996520</td>\n",
       "      <td>-0.963668</td>\n",
       "      <td>-0.977469</td>\n",
       "      <td>-0.938692</td>\n",
       "      <td>...</td>\n",
       "      <td>-0.390748</td>\n",
       "      <td>-0.760104</td>\n",
       "      <td>-0.118559</td>\n",
       "      <td>0.177899</td>\n",
       "      <td>0.100699</td>\n",
       "      <td>0.808529</td>\n",
       "      <td>-0.848933</td>\n",
       "      <td>0.180637</td>\n",
       "      <td>-0.049118</td>\n",
       "      <td>STANDING</td>\n",
       "    </tr>\n",
       "    <tr>\n",
       "      <th>3</th>\n",
       "      <td>0.279174</td>\n",
       "      <td>-0.026201</td>\n",
       "      <td>-0.123283</td>\n",
       "      <td>-0.996091</td>\n",
       "      <td>-0.983403</td>\n",
       "      <td>-0.990675</td>\n",
       "      <td>-0.997099</td>\n",
       "      <td>-0.982750</td>\n",
       "      <td>-0.989302</td>\n",
       "      <td>-0.938692</td>\n",
       "      <td>...</td>\n",
       "      <td>-0.117290</td>\n",
       "      <td>-0.482845</td>\n",
       "      <td>-0.036788</td>\n",
       "      <td>-0.012892</td>\n",
       "      <td>0.640011</td>\n",
       "      <td>-0.485366</td>\n",
       "      <td>-0.848649</td>\n",
       "      <td>0.181935</td>\n",
       "      <td>-0.047663</td>\n",
       "      <td>STANDING</td>\n",
       "    </tr>\n",
       "    <tr>\n",
       "      <th>4</th>\n",
       "      <td>0.276629</td>\n",
       "      <td>-0.016570</td>\n",
       "      <td>-0.115362</td>\n",
       "      <td>-0.998139</td>\n",
       "      <td>-0.980817</td>\n",
       "      <td>-0.990482</td>\n",
       "      <td>-0.998321</td>\n",
       "      <td>-0.979672</td>\n",
       "      <td>-0.990441</td>\n",
       "      <td>-0.942469</td>\n",
       "      <td>...</td>\n",
       "      <td>-0.351471</td>\n",
       "      <td>-0.699205</td>\n",
       "      <td>0.123320</td>\n",
       "      <td>0.122542</td>\n",
       "      <td>0.693578</td>\n",
       "      <td>-0.615971</td>\n",
       "      <td>-0.847865</td>\n",
       "      <td>0.185151</td>\n",
       "      <td>-0.043892</td>\n",
       "      <td>STANDING</td>\n",
       "    </tr>\n",
       "  </tbody>\n",
       "</table>\n",
       "<p>5 rows × 562 columns</p>\n",
       "</div>"
      ],
      "text/plain": [
       "   tBodyAcc-mean()-X  tBodyAcc-mean()-Y  tBodyAcc-mean()-Z  tBodyAcc-std()-X  \\\n",
       "0           0.288585          -0.020294          -0.132905         -0.995279   \n",
       "1           0.278419          -0.016411          -0.123520         -0.998245   \n",
       "2           0.279653          -0.019467          -0.113462         -0.995380   \n",
       "3           0.279174          -0.026201          -0.123283         -0.996091   \n",
       "4           0.276629          -0.016570          -0.115362         -0.998139   \n",
       "\n",
       "   tBodyAcc-std()-Y  tBodyAcc-std()-Z  tBodyAcc-mad()-X  tBodyAcc-mad()-Y  \\\n",
       "0         -0.983111         -0.913526         -0.995112         -0.983185   \n",
       "1         -0.975300         -0.960322         -0.998807         -0.974914   \n",
       "2         -0.967187         -0.978944         -0.996520         -0.963668   \n",
       "3         -0.983403         -0.990675         -0.997099         -0.982750   \n",
       "4         -0.980817         -0.990482         -0.998321         -0.979672   \n",
       "\n",
       "   tBodyAcc-mad()-Z  tBodyAcc-max()-X    ...     \\\n",
       "0         -0.923527         -0.934724    ...      \n",
       "1         -0.957686         -0.943068    ...      \n",
       "2         -0.977469         -0.938692    ...      \n",
       "3         -0.989302         -0.938692    ...      \n",
       "4         -0.990441         -0.942469    ...      \n",
       "\n",
       "   fBodyBodyGyroJerkMag-skewness()  fBodyBodyGyroJerkMag-kurtosis()  \\\n",
       "0                        -0.298676                        -0.710304   \n",
       "1                        -0.595051                        -0.861499   \n",
       "2                        -0.390748                        -0.760104   \n",
       "3                        -0.117290                        -0.482845   \n",
       "4                        -0.351471                        -0.699205   \n",
       "\n",
       "   angle(tBodyAccMean,gravity)  angle(tBodyAccJerkMean),gravityMean)  \\\n",
       "0                    -0.112754                              0.030400   \n",
       "1                     0.053477                             -0.007435   \n",
       "2                    -0.118559                              0.177899   \n",
       "3                    -0.036788                             -0.012892   \n",
       "4                     0.123320                              0.122542   \n",
       "\n",
       "   angle(tBodyGyroMean,gravityMean)  angle(tBodyGyroJerkMean,gravityMean)  \\\n",
       "0                         -0.464761                             -0.018446   \n",
       "1                         -0.732626                              0.703511   \n",
       "2                          0.100699                              0.808529   \n",
       "3                          0.640011                             -0.485366   \n",
       "4                          0.693578                             -0.615971   \n",
       "\n",
       "   angle(X,gravityMean)  angle(Y,gravityMean)  angle(Z,gravityMean)  Activity  \n",
       "0             -0.841247              0.179941             -0.058627  STANDING  \n",
       "1             -0.844788              0.180289             -0.054317  STANDING  \n",
       "2             -0.848933              0.180637             -0.049118  STANDING  \n",
       "3             -0.848649              0.181935             -0.047663  STANDING  \n",
       "4             -0.847865              0.185151             -0.043892  STANDING  \n",
       "\n",
       "[5 rows x 562 columns]"
      ]
     },
     "execution_count": 6,
     "metadata": {},
     "output_type": "execute_result"
    }
   ],
   "source": [
    "df.head()"
   ]
  },
  {
   "cell_type": "code",
   "execution_count": 7,
   "metadata": {},
   "outputs": [
    {
     "name": "stdout",
     "output_type": "stream",
     "text": [
      "<class 'pandas.core.frame.DataFrame'>\n",
      "RangeIndex: 1500 entries, 0 to 1499\n",
      "Columns: 562 entries, tBodyAcc-mean()-X to Activity\n",
      "dtypes: float64(561), object(1)\n",
      "memory usage: 6.4+ MB\n"
     ]
    }
   ],
   "source": [
    "df.info()"
   ]
  },
  {
   "cell_type": "markdown",
   "metadata": {},
   "source": [
    "#### Step3. [ Build GradientBoostingClassifier]\n"
   ]
  },
  {
   "cell_type": "code",
   "execution_count": 8,
   "metadata": {},
   "outputs": [
    {
     "data": {
      "text/plain": [
       "(1500, 561)"
      ]
     },
     "execution_count": 8,
     "metadata": {},
     "output_type": "execute_result"
    }
   ],
   "source": [
    "x=df.iloc[:,:-1]\n",
    "x.shape"
   ]
  },
  {
   "cell_type": "code",
   "execution_count": 9,
   "metadata": {},
   "outputs": [],
   "source": [
    "y=df['Activity']"
   ]
  },
  {
   "cell_type": "code",
   "execution_count": 10,
   "metadata": {},
   "outputs": [],
   "source": [
    "import sklearn\n",
    "from sklearn.model_selection import train_test_split"
   ]
  },
  {
   "cell_type": "code",
   "execution_count": 11,
   "metadata": {},
   "outputs": [],
   "source": [
    "x_train,x_test,y_train,y_test=train_test_split(x,y,test_size=0.3,random_state=42)"
   ]
  },
  {
   "cell_type": "code",
   "execution_count": 12,
   "metadata": {},
   "outputs": [],
   "source": [
    "from sklearn.ensemble import GradientBoostingClassifier"
   ]
  },
  {
   "cell_type": "code",
   "execution_count": 13,
   "metadata": {},
   "outputs": [],
   "source": [
    "model=GradientBoostingClassifier(n_estimators=100,learning_rate=1.0,max_depth=1)"
   ]
  },
  {
   "cell_type": "code",
   "execution_count": 14,
   "metadata": {},
   "outputs": [
    {
     "data": {
      "text/plain": [
       "GradientBoostingClassifier(criterion='friedman_mse', init=None,\n",
       "              learning_rate=1.0, loss='deviance', max_depth=1,\n",
       "              max_features=None, max_leaf_nodes=None,\n",
       "              min_impurity_decrease=0.0, min_impurity_split=None,\n",
       "              min_samples_leaf=1, min_samples_split=2,\n",
       "              min_weight_fraction_leaf=0.0, n_estimators=100,\n",
       "              presort='auto', random_state=None, subsample=1.0, verbose=0,\n",
       "              warm_start=False)"
      ]
     },
     "execution_count": 14,
     "metadata": {},
     "output_type": "execute_result"
    }
   ],
   "source": [
    "model.fit(x_train,y_train)"
   ]
  },
  {
   "cell_type": "code",
   "execution_count": 15,
   "metadata": {},
   "outputs": [
    {
     "data": {
      "text/plain": [
       "array(['WALKING_DOWNSTAIRS', 'SITTING', 'LAYING', 'LAYING', 'WALKING',\n",
       "       'STANDING', 'LAYING', 'LAYING', 'WALKING_DOWNSTAIRS', 'WALKING',\n",
       "       'SITTING', 'WALKING_DOWNSTAIRS', 'STANDING', 'LAYING', 'LAYING',\n",
       "       'WALKING_DOWNSTAIRS', 'STANDING', 'LAYING', 'LAYING', 'LAYING',\n",
       "       'SITTING', 'WALKING_DOWNSTAIRS', 'SITTING', 'WALKING', 'WALKING',\n",
       "       'LAYING', 'WALKING_UPSTAIRS', 'WALKING_UPSTAIRS', 'LAYING',\n",
       "       'WALKING_DOWNSTAIRS', 'WALKING', 'WALKING', 'WALKING_DOWNSTAIRS',\n",
       "       'SITTING', 'LAYING', 'WALKING_DOWNSTAIRS', 'LAYING', 'LAYING',\n",
       "       'WALKING', 'LAYING', 'LAYING', 'WALKING', 'STANDING', 'STANDING',\n",
       "       'WALKING', 'STANDING', 'STANDING', 'WALKING_UPSTAIRS', 'SITTING',\n",
       "       'STANDING', 'WALKING', 'STANDING', 'WALKING_UPSTAIRS',\n",
       "       'WALKING_UPSTAIRS', 'SITTING', 'WALKING_UPSTAIRS', 'SITTING',\n",
       "       'WALKING_UPSTAIRS', 'WALKING_UPSTAIRS', 'LAYING', 'WALKING',\n",
       "       'SITTING', 'WALKING_DOWNSTAIRS', 'LAYING', 'WALKING_DOWNSTAIRS',\n",
       "       'WALKING_UPSTAIRS', 'WALKING_UPSTAIRS', 'WALKING', 'WALKING',\n",
       "       'STANDING', 'WALKING_UPSTAIRS', 'STANDING', 'WALKING', 'WALKING',\n",
       "       'STANDING', 'STANDING', 'WALKING_DOWNSTAIRS', 'STANDING',\n",
       "       'WALKING', 'WALKING', 'SITTING', 'SITTING', 'LAYING',\n",
       "       'WALKING_DOWNSTAIRS', 'WALKING_DOWNSTAIRS', 'LAYING', 'LAYING',\n",
       "       'WALKING', 'LAYING', 'WALKING', 'WALKING', 'LAYING', 'WALKING',\n",
       "       'WALKING', 'LAYING', 'WALKING_DOWNSTAIRS', 'LAYING', 'WALKING',\n",
       "       'SITTING', 'SITTING', 'WALKING_UPSTAIRS', 'STANDING',\n",
       "       'WALKING_UPSTAIRS', 'WALKING', 'WALKING_UPSTAIRS', 'SITTING',\n",
       "       'LAYING', 'STANDING', 'STANDING', 'STANDING', 'WALKING_DOWNSTAIRS',\n",
       "       'STANDING', 'LAYING', 'SITTING', 'WALKING', 'LAYING',\n",
       "       'WALKING_DOWNSTAIRS', 'WALKING_UPSTAIRS', 'WALKING', 'WALKING',\n",
       "       'WALKING_UPSTAIRS', 'LAYING', 'WALKING', 'LAYING',\n",
       "       'WALKING_DOWNSTAIRS', 'LAYING', 'WALKING_UPSTAIRS', 'LAYING',\n",
       "       'STANDING', 'WALKING', 'WALKING', 'WALKING', 'STANDING',\n",
       "       'STANDING', 'STANDING', 'STANDING', 'WALKING_UPSTAIRS', 'STANDING',\n",
       "       'STANDING', 'WALKING', 'SITTING', 'WALKING', 'WALKING_UPSTAIRS',\n",
       "       'LAYING', 'LAYING', 'WALKING_UPSTAIRS', 'STANDING', 'STANDING',\n",
       "       'WALKING_UPSTAIRS', 'WALKING', 'SITTING', 'SITTING',\n",
       "       'WALKING_UPSTAIRS', 'WALKING_UPSTAIRS', 'STANDING',\n",
       "       'WALKING_DOWNSTAIRS', 'STANDING', 'WALKING_UPSTAIRS', 'STANDING',\n",
       "       'SITTING', 'LAYING', 'WALKING_DOWNSTAIRS', 'SITTING', 'WALKING',\n",
       "       'WALKING', 'WALKING', 'STANDING', 'LAYING', 'WALKING_DOWNSTAIRS',\n",
       "       'STANDING', 'LAYING', 'WALKING', 'WALKING_UPSTAIRS', 'STANDING',\n",
       "       'WALKING_DOWNSTAIRS', 'LAYING', 'WALKING_DOWNSTAIRS',\n",
       "       'WALKING_UPSTAIRS', 'WALKING_DOWNSTAIRS', 'WALKING_UPSTAIRS',\n",
       "       'WALKING', 'LAYING', 'SITTING', 'SITTING', 'STANDING',\n",
       "       'WALKING_DOWNSTAIRS', 'STANDING', 'STANDING', 'LAYING', 'SITTING',\n",
       "       'LAYING', 'STANDING', 'STANDING', 'STANDING', 'WALKING',\n",
       "       'WALKING_UPSTAIRS', 'LAYING', 'WALKING_DOWNSTAIRS', 'LAYING',\n",
       "       'LAYING', 'WALKING_UPSTAIRS', 'LAYING', 'LAYING', 'WALKING',\n",
       "       'SITTING', 'WALKING', 'STANDING', 'WALKING_UPSTAIRS', 'STANDING',\n",
       "       'STANDING', 'LAYING', 'STANDING', 'LAYING', 'WALKING_DOWNSTAIRS',\n",
       "       'WALKING', 'WALKING_DOWNSTAIRS', 'LAYING', 'WALKING_DOWNSTAIRS',\n",
       "       'STANDING', 'STANDING', 'LAYING', 'LAYING', 'LAYING', 'SITTING',\n",
       "       'LAYING', 'WALKING', 'SITTING', 'LAYING', 'LAYING', 'LAYING',\n",
       "       'LAYING', 'LAYING', 'SITTING', 'WALKING_UPSTAIRS', 'STANDING',\n",
       "       'LAYING', 'SITTING', 'LAYING', 'LAYING', 'WALKING_DOWNSTAIRS',\n",
       "       'WALKING', 'LAYING', 'WALKING_UPSTAIRS', 'WALKING', 'STANDING',\n",
       "       'STANDING', 'SITTING', 'STANDING', 'STANDING', 'WALKING',\n",
       "       'SITTING', 'WALKING', 'STANDING', 'WALKING', 'STANDING',\n",
       "       'WALKING_UPSTAIRS', 'STANDING', 'LAYING', 'WALKING_DOWNSTAIRS',\n",
       "       'STANDING', 'WALKING_UPSTAIRS', 'SITTING', 'LAYING',\n",
       "       'WALKING_DOWNSTAIRS', 'WALKING_DOWNSTAIRS', 'STANDING', 'LAYING',\n",
       "       'SITTING', 'LAYING', 'LAYING', 'STANDING', 'LAYING',\n",
       "       'WALKING_UPSTAIRS', 'WALKING_DOWNSTAIRS', 'WALKING_UPSTAIRS',\n",
       "       'WALKING', 'WALKING_DOWNSTAIRS', 'LAYING', 'STANDING', 'SITTING',\n",
       "       'STANDING', 'WALKING_UPSTAIRS', 'LAYING', 'STANDING', 'SITTING',\n",
       "       'WALKING', 'STANDING', 'WALKING', 'WALKING', 'WALKING', 'LAYING',\n",
       "       'STANDING', 'WALKING', 'WALKING_DOWNSTAIRS', 'WALKING',\n",
       "       'WALKING_UPSTAIRS', 'WALKING_DOWNSTAIRS', 'WALKING',\n",
       "       'WALKING_UPSTAIRS', 'WALKING_UPSTAIRS', 'STANDING', 'STANDING',\n",
       "       'STANDING', 'WALKING_DOWNSTAIRS', 'WALKING_UPSTAIRS', 'STANDING',\n",
       "       'STANDING', 'SITTING', 'STANDING', 'WALKING_DOWNSTAIRS', 'LAYING',\n",
       "       'WALKING', 'LAYING', 'WALKING', 'WALKING_DOWNSTAIRS',\n",
       "       'WALKING_UPSTAIRS', 'STANDING', 'LAYING', 'WALKING', 'WALKING',\n",
       "       'LAYING', 'SITTING', 'WALKING_UPSTAIRS', 'WALKING_UPSTAIRS',\n",
       "       'WALKING_DOWNSTAIRS', 'WALKING_UPSTAIRS', 'WALKING', 'WALKING',\n",
       "       'WALKING', 'WALKING', 'STANDING', 'SITTING', 'STANDING',\n",
       "       'WALKING_UPSTAIRS', 'STANDING', 'STANDING', 'LAYING', 'WALKING',\n",
       "       'WALKING_UPSTAIRS', 'LAYING', 'WALKING_UPSTAIRS', 'STANDING',\n",
       "       'WALKING', 'STANDING', 'WALKING_DOWNSTAIRS', 'WALKING_UPSTAIRS',\n",
       "       'WALKING', 'STANDING', 'STANDING', 'STANDING', 'SITTING',\n",
       "       'STANDING', 'SITTING', 'STANDING', 'WALKING', 'WALKING_DOWNSTAIRS',\n",
       "       'WALKING', 'WALKING', 'WALKING', 'STANDING', 'STANDING', 'WALKING',\n",
       "       'STANDING', 'LAYING', 'WALKING', 'LAYING', 'WALKING', 'STANDING',\n",
       "       'SITTING', 'WALKING_DOWNSTAIRS', 'WALKING_UPSTAIRS',\n",
       "       'WALKING_UPSTAIRS', 'WALKING_UPSTAIRS', 'WALKING_UPSTAIRS',\n",
       "       'LAYING', 'WALKING_DOWNSTAIRS', 'LAYING', 'STANDING',\n",
       "       'WALKING_DOWNSTAIRS', 'STANDING', 'SITTING', 'WALKING', 'SITTING',\n",
       "       'WALKING_DOWNSTAIRS', 'WALKING_DOWNSTAIRS', 'STANDING', 'STANDING',\n",
       "       'STANDING', 'WALKING_DOWNSTAIRS', 'STANDING', 'WALKING',\n",
       "       'WALKING_DOWNSTAIRS', 'WALKING_DOWNSTAIRS', 'LAYING',\n",
       "       'WALKING_DOWNSTAIRS', 'WALKING', 'LAYING', 'LAYING',\n",
       "       'WALKING_UPSTAIRS', 'LAYING', 'WALKING_UPSTAIRS', 'LAYING',\n",
       "       'WALKING', 'LAYING', 'WALKING_UPSTAIRS', 'SITTING', 'SITTING',\n",
       "       'STANDING', 'LAYING', 'STANDING', 'SITTING', 'WALKING_UPSTAIRS',\n",
       "       'WALKING', 'WALKING', 'SITTING', 'STANDING', 'WALKING',\n",
       "       'WALKING_DOWNSTAIRS', 'WALKING_UPSTAIRS', 'LAYING', 'WALKING',\n",
       "       'WALKING_UPSTAIRS', 'WALKING_DOWNSTAIRS', 'STANDING', 'WALKING',\n",
       "       'STANDING', 'WALKING_DOWNSTAIRS', 'STANDING', 'WALKING',\n",
       "       'WALKING_DOWNSTAIRS', 'SITTING', 'WALKING_DOWNSTAIRS',\n",
       "       'WALKING_UPSTAIRS', 'WALKING', 'STANDING', 'SITTING', 'LAYING',\n",
       "       'STANDING', 'WALKING_UPSTAIRS', 'WALKING_DOWNSTAIRS',\n",
       "       'WALKING_UPSTAIRS', 'WALKING_DOWNSTAIRS', 'SITTING', 'WALKING',\n",
       "       'WALKING_DOWNSTAIRS', 'WALKING', 'STANDING', 'WALKING_DOWNSTAIRS',\n",
       "       'SITTING', 'STANDING'], dtype=object)"
      ]
     },
     "execution_count": 15,
     "metadata": {},
     "output_type": "execute_result"
    }
   ],
   "source": [
    "y_pred=model.predict(x_test)\n",
    "y_pred"
   ]
  },
  {
   "cell_type": "code",
   "execution_count": 16,
   "metadata": {},
   "outputs": [],
   "source": [
    "from sklearn.metrics import precision_score, recall_score,accuracy_score,roc_auc_score"
   ]
  },
  {
   "cell_type": "code",
   "execution_count": 17,
   "metadata": {},
   "outputs": [
    {
     "data": {
      "text/plain": [
       "0.9711111111111111"
      ]
     },
     "execution_count": 17,
     "metadata": {},
     "output_type": "execute_result"
    }
   ],
   "source": [
    "accuracy_score(y_test, y_pred)"
   ]
  },
  {
   "cell_type": "code",
   "execution_count": 18,
   "metadata": {},
   "outputs": [],
   "source": [
    "from sklearn.metrics import classification_report"
   ]
  },
  {
   "cell_type": "code",
   "execution_count": 19,
   "metadata": {},
   "outputs": [
    {
     "name": "stdout",
     "output_type": "stream",
     "text": [
      "                    precision    recall  f1-score   support\n",
      "\n",
      "            LAYING       1.00      1.00      1.00        90\n",
      "           SITTING       0.96      0.81      0.88        59\n",
      "          STANDING       0.89      0.98      0.93        91\n",
      "           WALKING       1.00      1.00      1.00        88\n",
      "WALKING_DOWNSTAIRS       1.00      1.00      1.00        60\n",
      "  WALKING_UPSTAIRS       1.00      1.00      1.00        62\n",
      "\n",
      "       avg / total       0.97      0.97      0.97       450\n",
      "\n"
     ]
    }
   ],
   "source": [
    "print(classification_report(y_test,y_pred))"
   ]
  },
  {
   "cell_type": "markdown",
   "metadata": {},
   "source": [
    "#### Step4. [Find Best no. of trees and Best Learning Rate using GridSearch and Cross Validation]\n"
   ]
  },
  {
   "cell_type": "code",
   "execution_count": 20,
   "metadata": {},
   "outputs": [],
   "source": [
    "from sklearn.ensemble import GradientBoostingClassifier\n",
    "classifier = GradientBoostingClassifier()"
   ]
  },
  {
   "cell_type": "code",
   "execution_count": 21,
   "metadata": {},
   "outputs": [],
   "source": [
    "from sklearn.model_selection import cross_val_score\n",
    "all_scores = cross_val_score(estimator=classifier, X=x_train, y=y_train, cv=5)"
   ]
  },
  {
   "cell_type": "code",
   "execution_count": 22,
   "metadata": {},
   "outputs": [
    {
     "name": "stdout",
     "output_type": "stream",
     "text": [
      "[0.98113208 0.98584906 0.97630332 0.98557692 0.97584541]\n"
     ]
    }
   ],
   "source": [
    "print(all_scores)"
   ]
  },
  {
   "cell_type": "markdown",
   "metadata": {},
   "source": [
    "#### To find the average of all the accuracies, simple use the mean() method"
   ]
  },
  {
   "cell_type": "code",
   "execution_count": 23,
   "metadata": {},
   "outputs": [
    {
     "data": {
      "text/plain": [
       "0.9809413566631917"
      ]
     },
     "execution_count": 23,
     "metadata": {},
     "output_type": "execute_result"
    }
   ],
   "source": [
    "all_scores.mean()"
   ]
  },
  {
   "cell_type": "code",
   "execution_count": 24,
   "metadata": {},
   "outputs": [],
   "source": [
    "parameter = {'n_estimators': [50, 100, 200, 400], 'learning_rate': [0.1, 0.01]}"
   ]
  },
  {
   "cell_type": "code",
   "execution_count": 25,
   "metadata": {},
   "outputs": [],
   "source": [
    "from sklearn.model_selection import GridSearchCV"
   ]
  },
  {
   "cell_type": "code",
   "execution_count": 26,
   "metadata": {},
   "outputs": [],
   "source": [
    "model1 = GridSearchCV(estimator=classifier,\n",
    "                      param_grid=parameter,\n",
    "                      cv=5, n_jobs=-1)"
   ]
  },
  {
   "cell_type": "code",
   "execution_count": 27,
   "metadata": {},
   "outputs": [
    {
     "data": {
      "text/plain": [
       "GridSearchCV(cv=5, error_score='raise',\n",
       "       estimator=GradientBoostingClassifier(criterion='friedman_mse', init=None,\n",
       "              learning_rate=0.1, loss='deviance', max_depth=3,\n",
       "              max_features=None, max_leaf_nodes=None,\n",
       "              min_impurity_decrease=0.0, min_impurity_split=None,\n",
       "              min_samples_leaf=1, min_samples_split=2,\n",
       "              min_weight_fraction_leaf=0.0, n_estimators=100,\n",
       "              presort='auto', random_state=None, subsample=1.0, verbose=0,\n",
       "              warm_start=False),\n",
       "       fit_params=None, iid=True, n_jobs=-1,\n",
       "       param_grid={'n_estimators': [50, 100, 200, 400], 'learning_rate': [0.1, 0.01]},\n",
       "       pre_dispatch='2*n_jobs', refit=True, return_train_score='warn',\n",
       "       scoring=None, verbose=0)"
      ]
     },
     "execution_count": 27,
     "metadata": {},
     "output_type": "execute_result"
    }
   ],
   "source": [
    "model1.fit(x_train,y_train)"
   ]
  },
  {
   "cell_type": "code",
   "execution_count": 30,
   "metadata": {},
   "outputs": [
    {
     "data": {
      "text/plain": [
       "array(['WALKING_DOWNSTAIRS', 'SITTING', 'LAYING', 'LAYING', 'WALKING',\n",
       "       'STANDING', 'LAYING', 'LAYING', 'WALKING_DOWNSTAIRS', 'WALKING',\n",
       "       'SITTING', 'WALKING_DOWNSTAIRS', 'STANDING', 'LAYING', 'LAYING',\n",
       "       'WALKING_DOWNSTAIRS', 'STANDING', 'LAYING', 'LAYING', 'LAYING',\n",
       "       'SITTING', 'WALKING_DOWNSTAIRS', 'SITTING', 'WALKING', 'WALKING',\n",
       "       'LAYING', 'WALKING_UPSTAIRS', 'WALKING_UPSTAIRS', 'LAYING',\n",
       "       'WALKING_DOWNSTAIRS', 'WALKING', 'WALKING', 'WALKING_DOWNSTAIRS',\n",
       "       'SITTING', 'LAYING', 'WALKING_DOWNSTAIRS', 'LAYING', 'LAYING',\n",
       "       'WALKING', 'LAYING', 'LAYING', 'WALKING', 'STANDING', 'STANDING',\n",
       "       'WALKING', 'STANDING', 'STANDING', 'WALKING_UPSTAIRS', 'SITTING',\n",
       "       'STANDING', 'WALKING', 'STANDING', 'WALKING_UPSTAIRS',\n",
       "       'WALKING_UPSTAIRS', 'SITTING', 'WALKING_UPSTAIRS', 'SITTING',\n",
       "       'WALKING_UPSTAIRS', 'WALKING_UPSTAIRS', 'LAYING', 'WALKING',\n",
       "       'SITTING', 'WALKING_DOWNSTAIRS', 'LAYING', 'WALKING_DOWNSTAIRS',\n",
       "       'WALKING_UPSTAIRS', 'WALKING_UPSTAIRS', 'WALKING', 'WALKING',\n",
       "       'STANDING', 'WALKING_UPSTAIRS', 'STANDING', 'WALKING', 'WALKING',\n",
       "       'STANDING', 'STANDING', 'WALKING_DOWNSTAIRS', 'STANDING',\n",
       "       'WALKING', 'WALKING', 'SITTING', 'SITTING', 'LAYING',\n",
       "       'WALKING_DOWNSTAIRS', 'WALKING_DOWNSTAIRS', 'LAYING', 'LAYING',\n",
       "       'WALKING', 'LAYING', 'WALKING', 'WALKING', 'LAYING', 'WALKING',\n",
       "       'WALKING', 'LAYING', 'WALKING_DOWNSTAIRS', 'LAYING', 'WALKING',\n",
       "       'STANDING', 'SITTING', 'WALKING_DOWNSTAIRS', 'STANDING',\n",
       "       'WALKING_UPSTAIRS', 'WALKING', 'WALKING_UPSTAIRS', 'SITTING',\n",
       "       'LAYING', 'STANDING', 'STANDING', 'STANDING', 'WALKING_DOWNSTAIRS',\n",
       "       'STANDING', 'LAYING', 'SITTING', 'WALKING', 'LAYING',\n",
       "       'WALKING_DOWNSTAIRS', 'WALKING_UPSTAIRS', 'WALKING', 'WALKING',\n",
       "       'WALKING_UPSTAIRS', 'LAYING', 'WALKING', 'LAYING',\n",
       "       'WALKING_DOWNSTAIRS', 'LAYING', 'WALKING_UPSTAIRS', 'LAYING',\n",
       "       'STANDING', 'WALKING', 'WALKING', 'WALKING', 'STANDING',\n",
       "       'STANDING', 'SITTING', 'STANDING', 'WALKING_UPSTAIRS', 'STANDING',\n",
       "       'STANDING', 'WALKING', 'SITTING', 'WALKING', 'WALKING_UPSTAIRS',\n",
       "       'LAYING', 'LAYING', 'WALKING_UPSTAIRS', 'STANDING', 'STANDING',\n",
       "       'WALKING_UPSTAIRS', 'WALKING', 'SITTING', 'SITTING',\n",
       "       'WALKING_UPSTAIRS', 'WALKING_UPSTAIRS', 'STANDING',\n",
       "       'WALKING_DOWNSTAIRS', 'STANDING', 'WALKING_UPSTAIRS', 'STANDING',\n",
       "       'SITTING', 'LAYING', 'WALKING_DOWNSTAIRS', 'SITTING', 'WALKING',\n",
       "       'WALKING', 'WALKING', 'STANDING', 'LAYING', 'WALKING_DOWNSTAIRS',\n",
       "       'STANDING', 'LAYING', 'WALKING', 'WALKING_UPSTAIRS', 'STANDING',\n",
       "       'WALKING_DOWNSTAIRS', 'LAYING', 'WALKING_DOWNSTAIRS',\n",
       "       'WALKING_UPSTAIRS', 'WALKING_DOWNSTAIRS', 'WALKING_UPSTAIRS',\n",
       "       'WALKING', 'LAYING', 'SITTING', 'SITTING', 'STANDING',\n",
       "       'WALKING_DOWNSTAIRS', 'STANDING', 'STANDING', 'LAYING', 'SITTING',\n",
       "       'LAYING', 'STANDING', 'STANDING', 'STANDING', 'WALKING',\n",
       "       'WALKING_UPSTAIRS', 'LAYING', 'WALKING_DOWNSTAIRS', 'LAYING',\n",
       "       'LAYING', 'WALKING_UPSTAIRS', 'LAYING', 'LAYING', 'WALKING',\n",
       "       'SITTING', 'WALKING', 'STANDING', 'WALKING_UPSTAIRS', 'STANDING',\n",
       "       'STANDING', 'LAYING', 'STANDING', 'LAYING', 'WALKING_DOWNSTAIRS',\n",
       "       'WALKING', 'WALKING_DOWNSTAIRS', 'LAYING', 'WALKING_DOWNSTAIRS',\n",
       "       'STANDING', 'STANDING', 'LAYING', 'LAYING', 'LAYING', 'SITTING',\n",
       "       'LAYING', 'WALKING', 'SITTING', 'LAYING', 'LAYING', 'LAYING',\n",
       "       'LAYING', 'LAYING', 'SITTING', 'WALKING_UPSTAIRS', 'STANDING',\n",
       "       'LAYING', 'SITTING', 'LAYING', 'LAYING', 'WALKING_DOWNSTAIRS',\n",
       "       'WALKING', 'LAYING', 'WALKING_UPSTAIRS', 'WALKING', 'STANDING',\n",
       "       'STANDING', 'SITTING', 'STANDING', 'STANDING', 'WALKING',\n",
       "       'SITTING', 'WALKING', 'STANDING', 'WALKING', 'STANDING',\n",
       "       'WALKING_UPSTAIRS', 'STANDING', 'LAYING', 'WALKING_DOWNSTAIRS',\n",
       "       'STANDING', 'WALKING_UPSTAIRS', 'SITTING', 'LAYING',\n",
       "       'WALKING_DOWNSTAIRS', 'WALKING_DOWNSTAIRS', 'STANDING', 'LAYING',\n",
       "       'SITTING', 'LAYING', 'LAYING', 'STANDING', 'LAYING',\n",
       "       'WALKING_UPSTAIRS', 'WALKING_DOWNSTAIRS', 'WALKING_UPSTAIRS',\n",
       "       'WALKING', 'WALKING_DOWNSTAIRS', 'LAYING', 'STANDING', 'SITTING',\n",
       "       'STANDING', 'WALKING_UPSTAIRS', 'LAYING', 'STANDING', 'SITTING',\n",
       "       'WALKING', 'STANDING', 'WALKING', 'WALKING', 'WALKING', 'LAYING',\n",
       "       'STANDING', 'WALKING', 'WALKING_DOWNSTAIRS', 'WALKING',\n",
       "       'WALKING_UPSTAIRS', 'WALKING_DOWNSTAIRS', 'WALKING',\n",
       "       'WALKING_UPSTAIRS', 'WALKING_UPSTAIRS', 'STANDING', 'STANDING',\n",
       "       'STANDING', 'WALKING_DOWNSTAIRS', 'WALKING_UPSTAIRS', 'STANDING',\n",
       "       'STANDING', 'SITTING', 'STANDING', 'WALKING_DOWNSTAIRS', 'LAYING',\n",
       "       'WALKING', 'LAYING', 'WALKING', 'WALKING_DOWNSTAIRS',\n",
       "       'WALKING_UPSTAIRS', 'STANDING', 'LAYING', 'WALKING', 'WALKING',\n",
       "       'LAYING', 'SITTING', 'WALKING_UPSTAIRS', 'WALKING_UPSTAIRS',\n",
       "       'WALKING_DOWNSTAIRS', 'WALKING_UPSTAIRS', 'WALKING', 'WALKING',\n",
       "       'WALKING', 'WALKING', 'STANDING', 'SITTING', 'STANDING',\n",
       "       'WALKING_UPSTAIRS', 'STANDING', 'STANDING', 'LAYING', 'WALKING',\n",
       "       'WALKING_UPSTAIRS', 'LAYING', 'WALKING_UPSTAIRS', 'STANDING',\n",
       "       'WALKING', 'STANDING', 'WALKING_DOWNSTAIRS', 'WALKING_UPSTAIRS',\n",
       "       'WALKING', 'STANDING', 'STANDING', 'STANDING', 'SITTING',\n",
       "       'STANDING', 'SITTING', 'SITTING', 'WALKING', 'WALKING_DOWNSTAIRS',\n",
       "       'WALKING', 'WALKING', 'WALKING', 'STANDING', 'STANDING', 'WALKING',\n",
       "       'STANDING', 'LAYING', 'WALKING', 'LAYING', 'WALKING', 'STANDING',\n",
       "       'SITTING', 'WALKING_DOWNSTAIRS', 'WALKING_UPSTAIRS',\n",
       "       'WALKING_UPSTAIRS', 'WALKING_UPSTAIRS', 'WALKING_UPSTAIRS',\n",
       "       'LAYING', 'WALKING_DOWNSTAIRS', 'LAYING', 'STANDING',\n",
       "       'WALKING_DOWNSTAIRS', 'STANDING', 'SITTING', 'WALKING', 'SITTING',\n",
       "       'WALKING_DOWNSTAIRS', 'WALKING_DOWNSTAIRS', 'STANDING', 'STANDING',\n",
       "       'STANDING', 'WALKING_DOWNSTAIRS', 'STANDING', 'WALKING',\n",
       "       'WALKING_DOWNSTAIRS', 'WALKING_DOWNSTAIRS', 'LAYING',\n",
       "       'WALKING_DOWNSTAIRS', 'WALKING', 'LAYING', 'LAYING',\n",
       "       'WALKING_UPSTAIRS', 'LAYING', 'WALKING_UPSTAIRS', 'LAYING',\n",
       "       'WALKING', 'LAYING', 'WALKING_UPSTAIRS', 'SITTING', 'SITTING',\n",
       "       'STANDING', 'LAYING', 'STANDING', 'STANDING', 'WALKING_UPSTAIRS',\n",
       "       'WALKING', 'WALKING', 'SITTING', 'STANDING', 'WALKING',\n",
       "       'WALKING_DOWNSTAIRS', 'WALKING_UPSTAIRS', 'LAYING', 'WALKING',\n",
       "       'WALKING_UPSTAIRS', 'WALKING_DOWNSTAIRS', 'STANDING', 'WALKING',\n",
       "       'STANDING', 'WALKING_DOWNSTAIRS', 'STANDING', 'WALKING',\n",
       "       'WALKING_DOWNSTAIRS', 'SITTING', 'WALKING_DOWNSTAIRS',\n",
       "       'WALKING_UPSTAIRS', 'WALKING', 'STANDING', 'SITTING', 'LAYING',\n",
       "       'STANDING', 'WALKING_UPSTAIRS', 'WALKING_DOWNSTAIRS',\n",
       "       'WALKING_UPSTAIRS', 'WALKING_DOWNSTAIRS', 'SITTING', 'WALKING',\n",
       "       'WALKING_DOWNSTAIRS', 'WALKING', 'STANDING', 'WALKING_DOWNSTAIRS',\n",
       "       'SITTING', 'STANDING'], dtype=object)"
      ]
     },
     "execution_count": 30,
     "metadata": {},
     "output_type": "execute_result"
    }
   ],
   "source": [
    "y_pred3=model1.predict(x_test)\n",
    "y_pred3"
   ]
  },
  {
   "cell_type": "code",
   "execution_count": 31,
   "metadata": {},
   "outputs": [
    {
     "data": {
      "text/plain": [
       "0.9777777777777777"
      ]
     },
     "execution_count": 31,
     "metadata": {},
     "output_type": "execute_result"
    }
   ],
   "source": [
    "accuracy_score(y_test,y_pred3)"
   ]
  },
  {
   "cell_type": "code",
   "execution_count": 32,
   "metadata": {},
   "outputs": [
    {
     "name": "stdout",
     "output_type": "stream",
     "text": [
      "                    precision    recall  f1-score   support\n",
      "\n",
      "            LAYING       1.00      1.00      1.00        90\n",
      "           SITTING       1.00      0.85      0.92        59\n",
      "          STANDING       0.91      1.00      0.95        91\n",
      "           WALKING       1.00      1.00      1.00        88\n",
      "WALKING_DOWNSTAIRS       0.98      1.00      0.99        60\n",
      "  WALKING_UPSTAIRS       1.00      0.98      0.99        62\n",
      "\n",
      "       avg / total       0.98      0.98      0.98       450\n",
      "\n"
     ]
    }
   ],
   "source": [
    "print(classification_report(y_test,y_pred3))"
   ]
  },
  {
   "cell_type": "code",
   "execution_count": 33,
   "metadata": {},
   "outputs": [
    {
     "name": "stdout",
     "output_type": "stream",
     "text": [
      "GradientBoostingClassifier(criterion='friedman_mse', init=None,\n",
      "              learning_rate=0.1, loss='deviance', max_depth=3,\n",
      "              max_features=None, max_leaf_nodes=None,\n",
      "              min_impurity_decrease=0.0, min_impurity_split=None,\n",
      "              min_samples_leaf=1, min_samples_split=2,\n",
      "              min_weight_fraction_leaf=0.0, n_estimators=400,\n",
      "              presort='auto', random_state=None, subsample=1.0, verbose=0,\n",
      "              warm_start=False)\n"
     ]
    }
   ],
   "source": [
    "print(model1.best_estimator_)"
   ]
  },
  {
   "cell_type": "markdown",
   "metadata": {},
   "source": [
    "#### Step6. [Build LogisticRegressionCV classifier]"
   ]
  },
  {
   "cell_type": "code",
   "execution_count": 35,
   "metadata": {},
   "outputs": [],
   "source": [
    "from sklearn.linear_model import LogisticRegressionCV"
   ]
  },
  {
   "cell_type": "code",
   "execution_count": 36,
   "metadata": {},
   "outputs": [],
   "source": [
    "model4 = LogisticRegressionCV(cv=4,Cs=5,penalty='l2')"
   ]
  },
  {
   "cell_type": "code",
   "execution_count": 38,
   "metadata": {},
   "outputs": [
    {
     "data": {
      "text/plain": [
       "LogisticRegressionCV(Cs=5, class_weight=None, cv=4, dual=False,\n",
       "           fit_intercept=True, intercept_scaling=1.0, max_iter=100,\n",
       "           multi_class='ovr', n_jobs=1, penalty='l2', random_state=None,\n",
       "           refit=True, scoring=None, solver='lbfgs', tol=0.0001, verbose=0)"
      ]
     },
     "execution_count": 38,
     "metadata": {},
     "output_type": "execute_result"
    }
   ],
   "source": [
    "model4.fit(x_train,y_train)"
   ]
  },
  {
   "cell_type": "code",
   "execution_count": 41,
   "metadata": {},
   "outputs": [
    {
     "data": {
      "text/plain": [
       "array(['WALKING_DOWNSTAIRS', 'SITTING', 'LAYING', 'LAYING', 'WALKING',\n",
       "       'STANDING', 'LAYING', 'LAYING', 'WALKING_DOWNSTAIRS', 'WALKING',\n",
       "       'SITTING', 'WALKING_DOWNSTAIRS', 'STANDING', 'LAYING', 'LAYING',\n",
       "       'WALKING_DOWNSTAIRS', 'STANDING', 'LAYING', 'LAYING', 'LAYING',\n",
       "       'SITTING', 'WALKING_DOWNSTAIRS', 'STANDING', 'WALKING', 'WALKING',\n",
       "       'LAYING', 'WALKING_UPSTAIRS', 'WALKING_UPSTAIRS', 'LAYING',\n",
       "       'WALKING_DOWNSTAIRS', 'WALKING', 'WALKING', 'WALKING_DOWNSTAIRS',\n",
       "       'STANDING', 'LAYING', 'WALKING_DOWNSTAIRS', 'LAYING', 'LAYING',\n",
       "       'WALKING', 'LAYING', 'LAYING', 'WALKING', 'STANDING', 'STANDING',\n",
       "       'WALKING', 'STANDING', 'STANDING', 'WALKING_UPSTAIRS', 'SITTING',\n",
       "       'STANDING', 'WALKING', 'STANDING', 'WALKING_UPSTAIRS',\n",
       "       'WALKING_UPSTAIRS', 'SITTING', 'WALKING_UPSTAIRS', 'SITTING',\n",
       "       'WALKING_UPSTAIRS', 'WALKING_UPSTAIRS', 'LAYING', 'WALKING',\n",
       "       'SITTING', 'WALKING_DOWNSTAIRS', 'LAYING', 'WALKING_DOWNSTAIRS',\n",
       "       'WALKING_UPSTAIRS', 'WALKING_UPSTAIRS', 'WALKING', 'WALKING',\n",
       "       'STANDING', 'WALKING_UPSTAIRS', 'STANDING', 'WALKING', 'WALKING',\n",
       "       'STANDING', 'STANDING', 'WALKING_DOWNSTAIRS', 'STANDING',\n",
       "       'WALKING', 'WALKING', 'SITTING', 'SITTING', 'LAYING',\n",
       "       'WALKING_DOWNSTAIRS', 'WALKING_DOWNSTAIRS', 'LAYING', 'LAYING',\n",
       "       'WALKING', 'LAYING', 'WALKING', 'WALKING', 'LAYING', 'WALKING',\n",
       "       'WALKING', 'LAYING', 'WALKING_DOWNSTAIRS', 'LAYING', 'WALKING',\n",
       "       'STANDING', 'SITTING', 'WALKING_UPSTAIRS', 'STANDING',\n",
       "       'WALKING_UPSTAIRS', 'WALKING', 'WALKING_UPSTAIRS', 'SITTING',\n",
       "       'LAYING', 'STANDING', 'STANDING', 'STANDING', 'WALKING_DOWNSTAIRS',\n",
       "       'STANDING', 'LAYING', 'SITTING', 'WALKING', 'LAYING',\n",
       "       'WALKING_DOWNSTAIRS', 'WALKING_UPSTAIRS', 'WALKING', 'WALKING',\n",
       "       'WALKING_UPSTAIRS', 'LAYING', 'WALKING', 'LAYING',\n",
       "       'WALKING_DOWNSTAIRS', 'LAYING', 'WALKING_UPSTAIRS', 'LAYING',\n",
       "       'SITTING', 'WALKING', 'WALKING', 'WALKING', 'STANDING', 'STANDING',\n",
       "       'SITTING', 'STANDING', 'WALKING_UPSTAIRS', 'STANDING', 'STANDING',\n",
       "       'WALKING', 'SITTING', 'WALKING', 'WALKING_UPSTAIRS', 'LAYING',\n",
       "       'LAYING', 'WALKING_UPSTAIRS', 'STANDING', 'STANDING',\n",
       "       'WALKING_UPSTAIRS', 'WALKING', 'SITTING', 'SITTING',\n",
       "       'WALKING_UPSTAIRS', 'WALKING_UPSTAIRS', 'STANDING',\n",
       "       'WALKING_DOWNSTAIRS', 'STANDING', 'WALKING_UPSTAIRS', 'STANDING',\n",
       "       'SITTING', 'LAYING', 'WALKING_DOWNSTAIRS', 'SITTING', 'WALKING',\n",
       "       'WALKING', 'WALKING', 'STANDING', 'LAYING', 'WALKING_DOWNSTAIRS',\n",
       "       'STANDING', 'LAYING', 'WALKING', 'WALKING_UPSTAIRS', 'STANDING',\n",
       "       'WALKING_DOWNSTAIRS', 'LAYING', 'WALKING_DOWNSTAIRS',\n",
       "       'WALKING_UPSTAIRS', 'WALKING_DOWNSTAIRS', 'WALKING_UPSTAIRS',\n",
       "       'WALKING', 'LAYING', 'SITTING', 'SITTING', 'STANDING',\n",
       "       'WALKING_DOWNSTAIRS', 'STANDING', 'SITTING', 'LAYING', 'SITTING',\n",
       "       'LAYING', 'SITTING', 'STANDING', 'STANDING', 'WALKING',\n",
       "       'WALKING_UPSTAIRS', 'LAYING', 'WALKING_DOWNSTAIRS', 'LAYING',\n",
       "       'LAYING', 'WALKING_UPSTAIRS', 'LAYING', 'LAYING', 'WALKING',\n",
       "       'SITTING', 'WALKING', 'STANDING', 'WALKING_UPSTAIRS', 'STANDING',\n",
       "       'STANDING', 'LAYING', 'STANDING', 'LAYING', 'WALKING_DOWNSTAIRS',\n",
       "       'WALKING', 'WALKING_DOWNSTAIRS', 'LAYING', 'WALKING_DOWNSTAIRS',\n",
       "       'STANDING', 'STANDING', 'LAYING', 'LAYING', 'LAYING', 'SITTING',\n",
       "       'LAYING', 'WALKING', 'SITTING', 'LAYING', 'LAYING', 'LAYING',\n",
       "       'LAYING', 'LAYING', 'SITTING', 'WALKING_UPSTAIRS', 'STANDING',\n",
       "       'LAYING', 'STANDING', 'LAYING', 'LAYING', 'WALKING_DOWNSTAIRS',\n",
       "       'WALKING', 'LAYING', 'WALKING_UPSTAIRS', 'WALKING', 'STANDING',\n",
       "       'STANDING', 'SITTING', 'STANDING', 'STANDING', 'WALKING',\n",
       "       'SITTING', 'WALKING', 'STANDING', 'WALKING', 'SITTING',\n",
       "       'WALKING_UPSTAIRS', 'STANDING', 'LAYING', 'WALKING_DOWNSTAIRS',\n",
       "       'STANDING', 'WALKING_UPSTAIRS', 'SITTING', 'LAYING',\n",
       "       'WALKING_DOWNSTAIRS', 'WALKING_DOWNSTAIRS', 'STANDING', 'LAYING',\n",
       "       'SITTING', 'LAYING', 'LAYING', 'STANDING', 'LAYING',\n",
       "       'WALKING_UPSTAIRS', 'WALKING_DOWNSTAIRS', 'WALKING_UPSTAIRS',\n",
       "       'WALKING', 'WALKING_DOWNSTAIRS', 'LAYING', 'STANDING', 'SITTING',\n",
       "       'SITTING', 'WALKING_UPSTAIRS', 'LAYING', 'STANDING', 'SITTING',\n",
       "       'WALKING', 'STANDING', 'WALKING', 'WALKING', 'WALKING', 'LAYING',\n",
       "       'STANDING', 'WALKING', 'WALKING_DOWNSTAIRS', 'WALKING',\n",
       "       'WALKING_UPSTAIRS', 'WALKING_DOWNSTAIRS', 'WALKING',\n",
       "       'WALKING_UPSTAIRS', 'WALKING_UPSTAIRS', 'SITTING', 'STANDING',\n",
       "       'STANDING', 'WALKING_DOWNSTAIRS', 'WALKING_UPSTAIRS', 'STANDING',\n",
       "       'STANDING', 'SITTING', 'STANDING', 'WALKING_DOWNSTAIRS', 'LAYING',\n",
       "       'WALKING', 'LAYING', 'WALKING', 'WALKING_DOWNSTAIRS',\n",
       "       'WALKING_UPSTAIRS', 'STANDING', 'LAYING', 'WALKING', 'WALKING',\n",
       "       'LAYING', 'SITTING', 'WALKING_UPSTAIRS', 'WALKING_UPSTAIRS',\n",
       "       'WALKING_DOWNSTAIRS', 'WALKING_UPSTAIRS', 'WALKING', 'WALKING',\n",
       "       'WALKING', 'WALKING', 'STANDING', 'SITTING', 'STANDING',\n",
       "       'WALKING_UPSTAIRS', 'STANDING', 'STANDING', 'LAYING', 'WALKING',\n",
       "       'WALKING_UPSTAIRS', 'LAYING', 'WALKING_UPSTAIRS', 'STANDING',\n",
       "       'WALKING', 'STANDING', 'WALKING_DOWNSTAIRS', 'WALKING_UPSTAIRS',\n",
       "       'WALKING', 'STANDING', 'STANDING', 'SITTING', 'SITTING',\n",
       "       'STANDING', 'SITTING', 'SITTING', 'WALKING', 'WALKING_DOWNSTAIRS',\n",
       "       'WALKING', 'WALKING', 'WALKING', 'STANDING', 'STANDING', 'WALKING',\n",
       "       'STANDING', 'LAYING', 'WALKING', 'LAYING', 'WALKING', 'STANDING',\n",
       "       'SITTING', 'WALKING_DOWNSTAIRS', 'WALKING_UPSTAIRS',\n",
       "       'WALKING_UPSTAIRS', 'WALKING_UPSTAIRS', 'WALKING_UPSTAIRS',\n",
       "       'LAYING', 'WALKING_DOWNSTAIRS', 'LAYING', 'STANDING',\n",
       "       'WALKING_DOWNSTAIRS', 'STANDING', 'SITTING', 'WALKING', 'SITTING',\n",
       "       'WALKING_DOWNSTAIRS', 'WALKING_DOWNSTAIRS', 'STANDING', 'STANDING',\n",
       "       'STANDING', 'WALKING_DOWNSTAIRS', 'STANDING', 'WALKING',\n",
       "       'WALKING_DOWNSTAIRS', 'WALKING_DOWNSTAIRS', 'LAYING',\n",
       "       'WALKING_DOWNSTAIRS', 'WALKING', 'LAYING', 'LAYING',\n",
       "       'WALKING_UPSTAIRS', 'LAYING', 'WALKING_UPSTAIRS', 'LAYING',\n",
       "       'WALKING', 'LAYING', 'WALKING_UPSTAIRS', 'SITTING', 'SITTING',\n",
       "       'STANDING', 'LAYING', 'STANDING', 'STANDING', 'WALKING_UPSTAIRS',\n",
       "       'WALKING', 'WALKING', 'SITTING', 'STANDING', 'WALKING',\n",
       "       'WALKING_DOWNSTAIRS', 'WALKING_UPSTAIRS', 'LAYING', 'WALKING',\n",
       "       'WALKING_UPSTAIRS', 'WALKING_DOWNSTAIRS', 'STANDING', 'WALKING',\n",
       "       'STANDING', 'WALKING_DOWNSTAIRS', 'STANDING', 'WALKING',\n",
       "       'WALKING_DOWNSTAIRS', 'SITTING', 'WALKING_DOWNSTAIRS',\n",
       "       'WALKING_UPSTAIRS', 'WALKING', 'STANDING', 'SITTING', 'LAYING',\n",
       "       'STANDING', 'WALKING_UPSTAIRS', 'WALKING_DOWNSTAIRS',\n",
       "       'WALKING_UPSTAIRS', 'WALKING_DOWNSTAIRS', 'SITTING', 'WALKING',\n",
       "       'WALKING_DOWNSTAIRS', 'WALKING', 'STANDING', 'WALKING_DOWNSTAIRS',\n",
       "       'SITTING', 'STANDING'], dtype=object)"
      ]
     },
     "execution_count": 41,
     "metadata": {},
     "output_type": "execute_result"
    }
   ],
   "source": [
    "y_pred2=model4.predict(x_test)\n",
    "y_pred2"
   ]
  },
  {
   "cell_type": "code",
   "execution_count": 42,
   "metadata": {},
   "outputs": [
    {
     "data": {
      "text/plain": [
       "0.9888888888888889"
      ]
     },
     "execution_count": 42,
     "metadata": {},
     "output_type": "execute_result"
    }
   ],
   "source": [
    "accuracy_score(y_test,y_pred2)"
   ]
  },
  {
   "cell_type": "code",
   "execution_count": 43,
   "metadata": {},
   "outputs": [
    {
     "name": "stdout",
     "output_type": "stream",
     "text": [
      "                    precision    recall  f1-score   support\n",
      "\n",
      "            LAYING       1.00      1.00      1.00        90\n",
      "           SITTING       1.00      0.92      0.96        59\n",
      "          STANDING       0.95      1.00      0.97        91\n",
      "           WALKING       1.00      1.00      1.00        88\n",
      "WALKING_DOWNSTAIRS       1.00      1.00      1.00        60\n",
      "  WALKING_UPSTAIRS       1.00      1.00      1.00        62\n",
      "\n",
      "       avg / total       0.99      0.99      0.99       450\n",
      "\n"
     ]
    }
   ],
   "source": [
    "print(classification_report(y_test,y_pred2))"
   ]
  },
  {
   "cell_type": "markdown",
   "metadata": {},
   "source": [
    "#### Step 7 [ Build VotingClassifier]"
   ]
  },
  {
   "cell_type": "code",
   "execution_count": 46,
   "metadata": {},
   "outputs": [],
   "source": [
    "from sklearn.ensemble import RandomForestClassifier, VotingClassifier"
   ]
  },
  {
   "cell_type": "code",
   "execution_count": 47,
   "metadata": {},
   "outputs": [],
   "source": [
    "model4=VotingClassifier(estimators=[('lr',model4),('gbc',model1)], voting='hard')"
   ]
  },
  {
   "cell_type": "code",
   "execution_count": null,
   "metadata": {},
   "outputs": [],
   "source": [
    "model4.fit(x_train,y_train)"
   ]
  },
  {
   "cell_type": "code",
   "execution_count": null,
   "metadata": {},
   "outputs": [],
   "source": [
    "y__pred3=model4.predict(X_test)\n",
    "y_pred3"
   ]
  },
  {
   "cell_type": "code",
   "execution_count": null,
   "metadata": {},
   "outputs": [],
   "source": [
    "accuracy_score(y_test,y_pred3)"
   ]
  },
  {
   "cell_type": "code",
   "execution_count": null,
   "metadata": {},
   "outputs": [],
   "source": [
    "print(classification_report(y_test,y_pred3))"
   ]
  },
  {
   "cell_type": "markdown",
   "metadata": {},
   "source": [
    "#### Step8. [ Interpret your results]"
   ]
  },
  {
   "cell_type": "code",
   "execution_count": null,
   "metadata": {},
   "outputs": [],
   "source": [
    "print(model1.best_estimator_)"
   ]
  },
  {
   "cell_type": "markdown",
   "metadata": {},
   "source": [
    "### GradientBoostingClassifier\n",
    "#### GradientBoostingClassifier(n_estimators=50)"
   ]
  },
  {
   "cell_type": "code",
   "execution_count": null,
   "metadata": {},
   "outputs": [],
   "source": [
    "classifierF = GradientBoostingClassifier(n_estimators=50)"
   ]
  },
  {
   "cell_type": "code",
   "execution_count": null,
   "metadata": {},
   "outputs": [],
   "source": [
    "all_scoresF = cross_val_score(estimator=classifier, X=X_train, y=y_train, cv=5)"
   ]
  },
  {
   "cell_type": "code",
   "execution_count": null,
   "metadata": {},
   "outputs": [],
   "source": [
    "parameter = {'n_estimators': [50, 100, 200, 400], 'learning_rate': [0.1, 0.01]}"
   ]
  },
  {
   "cell_type": "code",
   "execution_count": null,
   "metadata": {},
   "outputs": [],
   "source": [
    "modelGC = GridSearchCV(estimator=classifier,\n",
    "                       param_grid=parameter,\n",
    "                       cv=5, n_jobs=-1)"
   ]
  },
  {
   "cell_type": "code",
   "execution_count": null,
   "metadata": {},
   "outputs": [],
   "source": [
    "modelGC.fit(X_train,y_train)"
   ]
  },
  {
   "cell_type": "code",
   "execution_count": null,
   "metadata": {},
   "outputs": [],
   "source": []
  }
 ],
 "metadata": {
  "kernelspec": {
   "display_name": "Python 3",
   "language": "python",
   "name": "python3"
  },
  "language_info": {
   "codemirror_mode": {
    "name": "ipython",
    "version": 3
   },
   "file_extension": ".py",
   "mimetype": "text/x-python",
   "name": "python",
   "nbconvert_exporter": "python",
   "pygments_lexer": "ipython3",
   "version": "3.8.8"
  }
 },
 "nbformat": 4,
 "nbformat_minor": 2
}
